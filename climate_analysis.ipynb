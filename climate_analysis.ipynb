{
 "cells": [
  {
   "cell_type": "markdown",
   "id": "8f5a61f2-a8c6-4b08-92a9-419d834b6ed8",
   "metadata": {},
   "source": [
    "# Climate Analysis\n"
   ]
  },
  {
   "cell_type": "markdown",
   "id": "2a147db1-626b-49de-846c-c286b1821c3f",
   "metadata": {},
   "source": [
    "\n",
    "\n",
    "Introduction:\n",
    "- 5 things you should know about Climate change\n",
    "- COP26\n",
    "    - what it means \n",
    "    - those involved\n",
    "    - why\n",
    "    - outcomes\n",
    "- Reporting\n",
    "    - Data sources"
   ]
  },
  {
   "cell_type": "markdown",
   "id": "813f30b3-4bf6-42c8-959e-e7122a4271f0",
   "metadata": {},
   "source": [
    "### Data Cleaning"
   ]
  },
  {
   "cell_type": "code",
   "execution_count": 1,
   "id": "25796279-6f63-4767-9c85-a3fa1c111d4d",
   "metadata": {},
   "outputs": [
    {
     "data": {
      "text/plain": [
       "RendererRegistry.enable('mimetype')"
      ]
     },
     "execution_count": 1,
     "metadata": {},
     "output_type": "execute_result"
    }
   ],
   "source": [
    "import altair as alt\n",
    "import pandas as pd\n",
    "import numpy as np\n",
    "import ipywidgets as widgets\n",
    "from ipywidgets import interact\n",
    "\n",
    "alt.data_transformers.enable('data_server')\n",
    "alt.renderers.enable('mimetype')"
   ]
  },
  {
   "cell_type": "code",
   "execution_count": 2,
   "id": "30fd07be-aaaa-4663-9f11-82bc65d3f7ba",
   "metadata": {},
   "outputs": [],
   "source": [
    "# import data\n",
    "df = pd.read_csv('data/Environment_Temperature_change_E_All_Data_NOFLAG.csv', encoding='latin-1')"
   ]
  },
  {
   "cell_type": "code",
   "execution_count": 3,
   "id": "40b53ee9-0c0c-4e1e-b098-ac077f0458f3",
   "metadata": {},
   "outputs": [
    {
     "data": {
      "text/html": [
       "<div>\n",
       "<style scoped>\n",
       "    .dataframe tbody tr th:only-of-type {\n",
       "        vertical-align: middle;\n",
       "    }\n",
       "\n",
       "    .dataframe tbody tr th {\n",
       "        vertical-align: top;\n",
       "    }\n",
       "\n",
       "    .dataframe thead th {\n",
       "        text-align: right;\n",
       "    }\n",
       "</style>\n",
       "<table border=\"1\" class=\"dataframe\">\n",
       "  <thead>\n",
       "    <tr style=\"text-align: right;\">\n",
       "      <th></th>\n",
       "      <th>Area Code</th>\n",
       "      <th>Area</th>\n",
       "      <th>Months Code</th>\n",
       "      <th>Months</th>\n",
       "      <th>Element Code</th>\n",
       "      <th>Element</th>\n",
       "      <th>Unit</th>\n",
       "      <th>Y1961</th>\n",
       "      <th>Y1962</th>\n",
       "      <th>Y1963</th>\n",
       "      <th>...</th>\n",
       "      <th>Y2010</th>\n",
       "      <th>Y2011</th>\n",
       "      <th>Y2012</th>\n",
       "      <th>Y2013</th>\n",
       "      <th>Y2014</th>\n",
       "      <th>Y2015</th>\n",
       "      <th>Y2016</th>\n",
       "      <th>Y2017</th>\n",
       "      <th>Y2018</th>\n",
       "      <th>Y2019</th>\n",
       "    </tr>\n",
       "  </thead>\n",
       "  <tbody>\n",
       "    <tr>\n",
       "      <th>0</th>\n",
       "      <td>2</td>\n",
       "      <td>Afghanistan</td>\n",
       "      <td>7001</td>\n",
       "      <td>January</td>\n",
       "      <td>7271</td>\n",
       "      <td>Temperature change</td>\n",
       "      <td>°C</td>\n",
       "      <td>0.777</td>\n",
       "      <td>0.062</td>\n",
       "      <td>2.744</td>\n",
       "      <td>...</td>\n",
       "      <td>3.601</td>\n",
       "      <td>1.179</td>\n",
       "      <td>-0.583</td>\n",
       "      <td>1.233</td>\n",
       "      <td>1.755</td>\n",
       "      <td>1.943</td>\n",
       "      <td>3.416</td>\n",
       "      <td>1.201</td>\n",
       "      <td>1.996</td>\n",
       "      <td>2.951</td>\n",
       "    </tr>\n",
       "    <tr>\n",
       "      <th>1</th>\n",
       "      <td>2</td>\n",
       "      <td>Afghanistan</td>\n",
       "      <td>7001</td>\n",
       "      <td>January</td>\n",
       "      <td>6078</td>\n",
       "      <td>Standard Deviation</td>\n",
       "      <td>°C</td>\n",
       "      <td>1.950</td>\n",
       "      <td>1.950</td>\n",
       "      <td>1.950</td>\n",
       "      <td>...</td>\n",
       "      <td>1.950</td>\n",
       "      <td>1.950</td>\n",
       "      <td>1.950</td>\n",
       "      <td>1.950</td>\n",
       "      <td>1.950</td>\n",
       "      <td>1.950</td>\n",
       "      <td>1.950</td>\n",
       "      <td>1.950</td>\n",
       "      <td>1.950</td>\n",
       "      <td>1.950</td>\n",
       "    </tr>\n",
       "    <tr>\n",
       "      <th>2</th>\n",
       "      <td>2</td>\n",
       "      <td>Afghanistan</td>\n",
       "      <td>7002</td>\n",
       "      <td>February</td>\n",
       "      <td>7271</td>\n",
       "      <td>Temperature change</td>\n",
       "      <td>°C</td>\n",
       "      <td>-1.743</td>\n",
       "      <td>2.465</td>\n",
       "      <td>3.919</td>\n",
       "      <td>...</td>\n",
       "      <td>1.212</td>\n",
       "      <td>0.321</td>\n",
       "      <td>-3.201</td>\n",
       "      <td>1.494</td>\n",
       "      <td>-3.187</td>\n",
       "      <td>2.699</td>\n",
       "      <td>2.251</td>\n",
       "      <td>-0.323</td>\n",
       "      <td>2.705</td>\n",
       "      <td>0.086</td>\n",
       "    </tr>\n",
       "    <tr>\n",
       "      <th>3</th>\n",
       "      <td>2</td>\n",
       "      <td>Afghanistan</td>\n",
       "      <td>7002</td>\n",
       "      <td>February</td>\n",
       "      <td>6078</td>\n",
       "      <td>Standard Deviation</td>\n",
       "      <td>°C</td>\n",
       "      <td>2.597</td>\n",
       "      <td>2.597</td>\n",
       "      <td>2.597</td>\n",
       "      <td>...</td>\n",
       "      <td>2.597</td>\n",
       "      <td>2.597</td>\n",
       "      <td>2.597</td>\n",
       "      <td>2.597</td>\n",
       "      <td>2.597</td>\n",
       "      <td>2.597</td>\n",
       "      <td>2.597</td>\n",
       "      <td>2.597</td>\n",
       "      <td>2.597</td>\n",
       "      <td>2.597</td>\n",
       "    </tr>\n",
       "    <tr>\n",
       "      <th>4</th>\n",
       "      <td>2</td>\n",
       "      <td>Afghanistan</td>\n",
       "      <td>7003</td>\n",
       "      <td>March</td>\n",
       "      <td>7271</td>\n",
       "      <td>Temperature change</td>\n",
       "      <td>°C</td>\n",
       "      <td>0.516</td>\n",
       "      <td>1.336</td>\n",
       "      <td>0.403</td>\n",
       "      <td>...</td>\n",
       "      <td>3.390</td>\n",
       "      <td>0.748</td>\n",
       "      <td>-0.527</td>\n",
       "      <td>2.246</td>\n",
       "      <td>-0.076</td>\n",
       "      <td>-0.497</td>\n",
       "      <td>2.296</td>\n",
       "      <td>0.834</td>\n",
       "      <td>4.418</td>\n",
       "      <td>0.234</td>\n",
       "    </tr>\n",
       "  </tbody>\n",
       "</table>\n",
       "<p>5 rows × 66 columns</p>\n",
       "</div>"
      ],
      "text/plain": [
       "   Area Code         Area  Months Code    Months  Element Code  \\\n",
       "0          2  Afghanistan         7001   January          7271   \n",
       "1          2  Afghanistan         7001   January          6078   \n",
       "2          2  Afghanistan         7002  February          7271   \n",
       "3          2  Afghanistan         7002  February          6078   \n",
       "4          2  Afghanistan         7003     March          7271   \n",
       "\n",
       "              Element Unit  Y1961  Y1962  Y1963  ...  Y2010  Y2011  Y2012  \\\n",
       "0  Temperature change   °C  0.777  0.062  2.744  ...  3.601  1.179 -0.583   \n",
       "1  Standard Deviation   °C  1.950  1.950  1.950  ...  1.950  1.950  1.950   \n",
       "2  Temperature change   °C -1.743  2.465  3.919  ...  1.212  0.321 -3.201   \n",
       "3  Standard Deviation   °C  2.597  2.597  2.597  ...  2.597  2.597  2.597   \n",
       "4  Temperature change   °C  0.516  1.336  0.403  ...  3.390  0.748 -0.527   \n",
       "\n",
       "   Y2013  Y2014  Y2015  Y2016  Y2017  Y2018  Y2019  \n",
       "0  1.233  1.755  1.943  3.416  1.201  1.996  2.951  \n",
       "1  1.950  1.950  1.950  1.950  1.950  1.950  1.950  \n",
       "2  1.494 -3.187  2.699  2.251 -0.323  2.705  0.086  \n",
       "3  2.597  2.597  2.597  2.597  2.597  2.597  2.597  \n",
       "4  2.246 -0.076 -0.497  2.296  0.834  4.418  0.234  \n",
       "\n",
       "[5 rows x 66 columns]"
      ]
     },
     "execution_count": 3,
     "metadata": {},
     "output_type": "execute_result"
    }
   ],
   "source": [
    "df.head()"
   ]
  },
  {
   "cell_type": "code",
   "execution_count": 4,
   "id": "a35361b2-c980-4fe4-9c8a-33cfb3688c8c",
   "metadata": {},
   "outputs": [
    {
     "data": {
      "text/plain": [
       "array(['January', 'February', 'March', 'April', 'May', 'June', 'July',\n",
       "       'August', 'September', 'October', 'November', 'December',\n",
       "       'Dec\\x96Jan\\x96Feb', 'Mar\\x96Apr\\x96May', 'Jun\\x96Jul\\x96Aug',\n",
       "       'Sep\\x96Oct\\x96Nov', 'Meteorological year'], dtype=object)"
      ]
     },
     "execution_count": 4,
     "metadata": {},
     "output_type": "execute_result"
    }
   ],
   "source": [
    "# Rename columns\n",
    "df.columns = df.columns.str.lower().str.replace('y', '')\n",
    "\n",
    "# Drop columns\n",
    "df.drop(columns=['area code', 'months code', 'element code', 'unit'], inplace=True)\n",
    "\n",
    "df['months'].unique()"
   ]
  },
  {
   "cell_type": "code",
   "execution_count": 5,
   "id": "b92a0eca-e118-4af2-846d-a287705e164a",
   "metadata": {},
   "outputs": [],
   "source": [
    "months_replace = {'Dec\\x96Jan\\x96Feb': 'quarter_1', 'Mar\\x96Apr\\x96May': 'quarter_2', 'Jun\\x96Jul\\x96Aug': 'quarter_3', 'Sep\\x96Oct\\x96Nov': 'quarter_4'}\n",
    "df.replace(months_replace, inplace=True)"
   ]
  },
  {
   "cell_type": "code",
   "execution_count": 6,
   "id": "13fa5a76-1a69-4e58-b3dc-653ef0dc9b77",
   "metadata": {},
   "outputs": [
    {
     "data": {
      "text/html": [
       "<div>\n",
       "<style scoped>\n",
       "    .dataframe tbody tr th:only-of-type {\n",
       "        vertical-align: middle;\n",
       "    }\n",
       "\n",
       "    .dataframe tbody tr th {\n",
       "        vertical-align: top;\n",
       "    }\n",
       "\n",
       "    .dataframe thead th {\n",
       "        text-align: right;\n",
       "    }\n",
       "</style>\n",
       "<table border=\"1\" class=\"dataframe\">\n",
       "  <thead>\n",
       "    <tr style=\"text-align: right;\">\n",
       "      <th></th>\n",
       "      <th>area</th>\n",
       "      <th>months</th>\n",
       "      <th>element</th>\n",
       "      <th>1961</th>\n",
       "      <th>1962</th>\n",
       "      <th>1963</th>\n",
       "      <th>1964</th>\n",
       "      <th>1965</th>\n",
       "      <th>1966</th>\n",
       "      <th>1967</th>\n",
       "      <th>...</th>\n",
       "      <th>2010</th>\n",
       "      <th>2011</th>\n",
       "      <th>2012</th>\n",
       "      <th>2013</th>\n",
       "      <th>2014</th>\n",
       "      <th>2015</th>\n",
       "      <th>2016</th>\n",
       "      <th>2017</th>\n",
       "      <th>2018</th>\n",
       "      <th>2019</th>\n",
       "    </tr>\n",
       "  </thead>\n",
       "  <tbody>\n",
       "    <tr>\n",
       "      <th>0</th>\n",
       "      <td>Afghanistan</td>\n",
       "      <td>January</td>\n",
       "      <td>Temperature change</td>\n",
       "      <td>0.777</td>\n",
       "      <td>0.062</td>\n",
       "      <td>2.744</td>\n",
       "      <td>-5.232</td>\n",
       "      <td>1.868</td>\n",
       "      <td>3.629</td>\n",
       "      <td>-1.432</td>\n",
       "      <td>...</td>\n",
       "      <td>3.601</td>\n",
       "      <td>1.179</td>\n",
       "      <td>-0.583</td>\n",
       "      <td>1.233</td>\n",
       "      <td>1.755</td>\n",
       "      <td>1.943</td>\n",
       "      <td>3.416</td>\n",
       "      <td>1.201</td>\n",
       "      <td>1.996</td>\n",
       "      <td>2.951</td>\n",
       "    </tr>\n",
       "    <tr>\n",
       "      <th>1</th>\n",
       "      <td>Afghanistan</td>\n",
       "      <td>January</td>\n",
       "      <td>Standard Deviation</td>\n",
       "      <td>1.950</td>\n",
       "      <td>1.950</td>\n",
       "      <td>1.950</td>\n",
       "      <td>1.950</td>\n",
       "      <td>1.950</td>\n",
       "      <td>1.950</td>\n",
       "      <td>1.950</td>\n",
       "      <td>...</td>\n",
       "      <td>1.950</td>\n",
       "      <td>1.950</td>\n",
       "      <td>1.950</td>\n",
       "      <td>1.950</td>\n",
       "      <td>1.950</td>\n",
       "      <td>1.950</td>\n",
       "      <td>1.950</td>\n",
       "      <td>1.950</td>\n",
       "      <td>1.950</td>\n",
       "      <td>1.950</td>\n",
       "    </tr>\n",
       "    <tr>\n",
       "      <th>2</th>\n",
       "      <td>Afghanistan</td>\n",
       "      <td>February</td>\n",
       "      <td>Temperature change</td>\n",
       "      <td>-1.743</td>\n",
       "      <td>2.465</td>\n",
       "      <td>3.919</td>\n",
       "      <td>-0.202</td>\n",
       "      <td>-0.096</td>\n",
       "      <td>3.397</td>\n",
       "      <td>0.296</td>\n",
       "      <td>...</td>\n",
       "      <td>1.212</td>\n",
       "      <td>0.321</td>\n",
       "      <td>-3.201</td>\n",
       "      <td>1.494</td>\n",
       "      <td>-3.187</td>\n",
       "      <td>2.699</td>\n",
       "      <td>2.251</td>\n",
       "      <td>-0.323</td>\n",
       "      <td>2.705</td>\n",
       "      <td>0.086</td>\n",
       "    </tr>\n",
       "    <tr>\n",
       "      <th>3</th>\n",
       "      <td>Afghanistan</td>\n",
       "      <td>February</td>\n",
       "      <td>Standard Deviation</td>\n",
       "      <td>2.597</td>\n",
       "      <td>2.597</td>\n",
       "      <td>2.597</td>\n",
       "      <td>2.597</td>\n",
       "      <td>2.597</td>\n",
       "      <td>2.597</td>\n",
       "      <td>2.597</td>\n",
       "      <td>...</td>\n",
       "      <td>2.597</td>\n",
       "      <td>2.597</td>\n",
       "      <td>2.597</td>\n",
       "      <td>2.597</td>\n",
       "      <td>2.597</td>\n",
       "      <td>2.597</td>\n",
       "      <td>2.597</td>\n",
       "      <td>2.597</td>\n",
       "      <td>2.597</td>\n",
       "      <td>2.597</td>\n",
       "    </tr>\n",
       "    <tr>\n",
       "      <th>4</th>\n",
       "      <td>Afghanistan</td>\n",
       "      <td>March</td>\n",
       "      <td>Temperature change</td>\n",
       "      <td>0.516</td>\n",
       "      <td>1.336</td>\n",
       "      <td>0.403</td>\n",
       "      <td>1.659</td>\n",
       "      <td>-0.909</td>\n",
       "      <td>-0.069</td>\n",
       "      <td>-0.759</td>\n",
       "      <td>...</td>\n",
       "      <td>3.390</td>\n",
       "      <td>0.748</td>\n",
       "      <td>-0.527</td>\n",
       "      <td>2.246</td>\n",
       "      <td>-0.076</td>\n",
       "      <td>-0.497</td>\n",
       "      <td>2.296</td>\n",
       "      <td>0.834</td>\n",
       "      <td>4.418</td>\n",
       "      <td>0.234</td>\n",
       "    </tr>\n",
       "  </tbody>\n",
       "</table>\n",
       "<p>5 rows × 62 columns</p>\n",
       "</div>"
      ],
      "text/plain": [
       "          area    months             element   1961   1962   1963   1964  \\\n",
       "0  Afghanistan   January  Temperature change  0.777  0.062  2.744 -5.232   \n",
       "1  Afghanistan   January  Standard Deviation  1.950  1.950  1.950  1.950   \n",
       "2  Afghanistan  February  Temperature change -1.743  2.465  3.919 -0.202   \n",
       "3  Afghanistan  February  Standard Deviation  2.597  2.597  2.597  2.597   \n",
       "4  Afghanistan     March  Temperature change  0.516  1.336  0.403  1.659   \n",
       "\n",
       "    1965   1966   1967  ...   2010   2011   2012   2013   2014   2015   2016  \\\n",
       "0  1.868  3.629 -1.432  ...  3.601  1.179 -0.583  1.233  1.755  1.943  3.416   \n",
       "1  1.950  1.950  1.950  ...  1.950  1.950  1.950  1.950  1.950  1.950  1.950   \n",
       "2 -0.096  3.397  0.296  ...  1.212  0.321 -3.201  1.494 -3.187  2.699  2.251   \n",
       "3  2.597  2.597  2.597  ...  2.597  2.597  2.597  2.597  2.597  2.597  2.597   \n",
       "4 -0.909 -0.069 -0.759  ...  3.390  0.748 -0.527  2.246 -0.076 -0.497  2.296   \n",
       "\n",
       "    2017   2018   2019  \n",
       "0  1.201  1.996  2.951  \n",
       "1  1.950  1.950  1.950  \n",
       "2 -0.323  2.705  0.086  \n",
       "3  2.597  2.597  2.597  \n",
       "4  0.834  4.418  0.234  \n",
       "\n",
       "[5 rows x 62 columns]"
      ]
     },
     "execution_count": 6,
     "metadata": {},
     "output_type": "execute_result"
    }
   ],
   "source": [
    "df.head()"
   ]
  },
  {
   "cell_type": "code",
   "execution_count": 7,
   "id": "b0675ec4-6cc4-4e13-91e6-c26fe7a4da0b",
   "metadata": {},
   "outputs": [
    {
     "data": {
      "text/html": [
       "<div>\n",
       "<style scoped>\n",
       "    .dataframe tbody tr th:only-of-type {\n",
       "        vertical-align: middle;\n",
       "    }\n",
       "\n",
       "    .dataframe tbody tr th {\n",
       "        vertical-align: top;\n",
       "    }\n",
       "\n",
       "    .dataframe thead th {\n",
       "        text-align: right;\n",
       "    }\n",
       "</style>\n",
       "<table border=\"1\" class=\"dataframe\">\n",
       "  <thead>\n",
       "    <tr style=\"text-align: right;\">\n",
       "      <th></th>\n",
       "      <th>area</th>\n",
       "      <th>year</th>\n",
       "      <th>sd</th>\n",
       "      <th>mean_temp_change</th>\n",
       "    </tr>\n",
       "  </thead>\n",
       "  <tbody>\n",
       "    <tr>\n",
       "      <th>0</th>\n",
       "      <td>Afghanistan</td>\n",
       "      <td>1961</td>\n",
       "      <td>1.187765</td>\n",
       "      <td>0.027941</td>\n",
       "    </tr>\n",
       "    <tr>\n",
       "      <th>1</th>\n",
       "      <td>Afghanistan</td>\n",
       "      <td>1962</td>\n",
       "      <td>1.187765</td>\n",
       "      <td>-0.197471</td>\n",
       "    </tr>\n",
       "    <tr>\n",
       "      <th>2</th>\n",
       "      <td>Afghanistan</td>\n",
       "      <td>1963</td>\n",
       "      <td>1.187765</td>\n",
       "      <td>0.888706</td>\n",
       "    </tr>\n",
       "    <tr>\n",
       "      <th>3</th>\n",
       "      <td>Afghanistan</td>\n",
       "      <td>1964</td>\n",
       "      <td>1.187765</td>\n",
       "      <td>-0.905647</td>\n",
       "    </tr>\n",
       "    <tr>\n",
       "      <th>4</th>\n",
       "      <td>Afghanistan</td>\n",
       "      <td>1965</td>\n",
       "      <td>1.187765</td>\n",
       "      <td>-0.051824</td>\n",
       "    </tr>\n",
       "  </tbody>\n",
       "</table>\n",
       "</div>"
      ],
      "text/plain": [
       "          area  year        sd  mean_temp_change\n",
       "0  Afghanistan  1961  1.187765          0.027941\n",
       "1  Afghanistan  1962  1.187765         -0.197471\n",
       "2  Afghanistan  1963  1.187765          0.888706\n",
       "3  Afghanistan  1964  1.187765         -0.905647\n",
       "4  Afghanistan  1965  1.187765         -0.051824"
      ]
     },
     "execution_count": 7,
     "metadata": {},
     "output_type": "execute_result"
    }
   ],
   "source": [
    "# Global temperature trend\n",
    "global_temp = df.melt(var_name='year', value_name='temp', id_vars=('area', 'months', 'element'))\n",
    "\n",
    "global_temp_grouped = global_temp.groupby(['area', 'element', 'year']).mean()\n",
    "annual_temp_change = global_temp_grouped.pivot_table('temp', ['area', 'year'], 'element')\n",
    "annual_temp_change.reset_index(drop=False, inplace=True)\n",
    "annual_temp_change = annual_temp_change.rename_axis(None, axis=1)\n",
    "annual_temp_change = annual_temp_change.rename(columns={'Standard Deviation': 'sd', 'Temperature change': 'mean_temp_change'})\n",
    "\n",
    "pd.to_datetime(annual_temp_change['year'], format='%Y')\n",
    "\n",
    "annual_temp_change.head()"
   ]
  },
  {
   "cell_type": "code",
   "execution_count": 8,
   "id": "4585d03a-6c65-4f57-8785-4eb454d8d290",
   "metadata": {},
   "outputs": [
    {
     "data": {
      "application/vnd.vegalite.v4+json": {
       "$schema": "https://vega.github.io/schema/vega-lite/v4.8.1.json",
       "config": {
        "view": {
         "continuousHeight": 300,
         "continuousWidth": 400
        }
       },
       "data": {
        "url": "http://localhost:18204/0aa56ee12e308e73f7989f060bc6ce76.json"
       },
       "height": 250,
       "layer": [
        {
         "encoding": {
          "color": {
           "field": "area",
           "legend": null,
           "type": "nominal"
          },
          "x": {
           "axis": {
            "labelAngle": 0,
            "values": [
             1960,
             1965,
             1970,
             1975,
             1980,
             1985,
             1990,
             1995,
             2000,
             2005,
             2010,
             2015,
             2020
            ]
           },
           "field": "year",
           "title": "Year",
           "type": "nominal"
          },
          "y": {
           "aggregate": "mean",
           "field": "mean_temp_change",
           "title": "Temperature change (C)",
           "type": "quantitative"
          }
         },
         "mark": "point"
        },
        {
         "encoding": {
          "color": {
           "field": "area",
           "type": "nominal"
          },
          "x": {
           "field": "year",
           "type": "nominal"
          },
          "y": {
           "aggregate": "mean",
           "field": "mean_temp_change",
           "type": "quantitative"
          }
         },
         "mark": "line"
        },
        {
         "encoding": {
          "color": {
           "field": "area",
           "legend": null,
           "type": "nominal"
          },
          "x": {
           "axis": {
            "labelAngle": 0,
            "values": [
             1960,
             1965,
             1970,
             1975,
             1980,
             1985,
             1990,
             1995,
             2000,
             2005,
             2010,
             2015,
             2020
            ]
           },
           "field": "year",
           "title": "Year",
           "type": "nominal"
          },
          "y": {
           "aggregate": "mean",
           "field": "mean_temp_change",
           "title": "Temperature change (C)",
           "type": "quantitative"
          }
         },
         "mark": {
          "size": 3,
          "type": "line"
         },
         "transform": [
          {
           "groupby": [
            "months"
           ],
           "on": "year",
           "regression": "mean_temp_change"
          }
         ]
        }
       ],
       "width": 750
      },
      "image/png": "[encoded data removed]",
      "text/plain": [
       "<VegaLite 4 object>\n",
       "\n",
       "If you see this message, it means the renderer has not been properly enabled\n",
       "for the frontend that you are using. For more information, see\n",
       "https://altair-viz.github.io/user_guide/troubleshooting.html\n"
      ]
     },
     "execution_count": 8,
     "metadata": {},
     "output_type": "execute_result"
    }
   ],
   "source": [
    "world_temp = annual_temp_change[annual_temp_change.area=='World']\n",
    "\n",
    "world_plot = alt.Chart(world_temp).mark_point().encode(\n",
    "    x=alt.X('year', title=\"Year\", axis=alt.Axis(values=np.arange(1960, 2021, 5), labelAngle=0)),\n",
    "    y=alt.Y('mean(mean_temp_change)', title=\"Temperature change (C)\") ,\n",
    "    color=alt.Color('area', legend=None)\n",
    ")\n",
    "\n",
    "line_plot = alt.Chart(world_temp).mark_line().encode(\n",
    "    x='year',\n",
    "    y='mean(mean_temp_change)',\n",
    "    color='area',\n",
    ")\n",
    "\n",
    "trend = world_plot.transform_regression(\n",
    "    'year', 'mean_temp_change', groupby=['months']).mark_line(size=3)\n",
    "\n",
    "\n",
    "(world_plot + line_plot + trend).properties(\n",
    "    width=750,\n",
    "    height=250\n",
    ")"
   ]
  },
  {
   "cell_type": "code",
   "execution_count": 9,
   "id": "de0188d4-0a49-497e-b2b6-a2d255926a39",
   "metadata": {},
   "outputs": [
    {
     "data": {
      "application/vnd.vegalite.v4+json": {
       "$schema": "https://vega.github.io/schema/vega-lite/v4.8.1.json",
       "config": {
        "view": {
         "continuousHeight": 300,
         "continuousWidth": 400
        }
       },
       "data": {
        "url": "http://localhost:18204/0aa56ee12e308e73f7989f060bc6ce76.json"
       },
       "encoding": {
        "color": {
         "field": "color",
         "scale": null,
         "type": "nominal"
        },
        "x": {
         "axis": {
          "labelAngle": 0,
          "values": [
           1960,
           1965,
           1970,
           1975,
           1980,
           1985,
           1990,
           1995,
           2000,
           2005,
           2010,
           2015,
           2020
          ]
         },
         "field": "year",
         "title": "Year",
         "type": "nominal"
        },
        "y": {
         "aggregate": "mean",
         "field": "mean_temp_change",
         "scale": {
          "domain": [
           -1,
           2
          ]
         },
         "title": "Change in temperature (°C)",
         "type": "quantitative"
        }
       },
       "height": 250,
       "mark": "bar",
       "transform": [
        {
         "joinaggregate": [
          {
           "as": "avg_temp",
           "field": "mean_temp_change",
           "op": "mean"
          }
         ]
        },
        {
         "as": "color",
         "calculate": "datum.mean_temp_change > 0 ? \"orange\" : \"steelblue\""
        }
       ],
       "width": 750
      },
      "image/png": "[encoded data removed]",
      "text/plain": [
       "<VegaLite 4 object>\n",
       "\n",
       "If you see this message, it means the renderer has not been properly enabled\n",
       "for the frontend that you are using. For more information, see\n",
       "https://altair-viz.github.io/user_guide/troubleshooting.html\n"
      ]
     },
     "execution_count": 9,
     "metadata": {},
     "output_type": "execute_result"
    }
   ],
   "source": [
    "base = alt.Chart(world_temp).transform_joinaggregate(\n",
    "    avg_temp = 'mean(mean_temp_change)'\n",
    ").transform_calculate(\n",
    "    color = 'datum.mean_temp_change > 0 ? \"orange\" : \"steelblue\"'\n",
    ")\n",
    "\n",
    "bars = base.mark_bar().encode(\n",
    "    x=alt.X('year', title=\"Year\", axis=alt.Axis(values=np.arange(1960, 2021, 5), labelAngle=0)),\n",
    "    y=alt.Y(\"mean(mean_temp_change):Q\", \n",
    "            title=\"Change in temperature (°C)\",\n",
    "            scale=alt.Scale(domain=(-1, 2))),\n",
    "    color=alt.Color('color:N', scale=None)\n",
    ").properties(\n",
    "    width=750,\n",
    "    height=250\n",
    ")\n",
    "\n",
    "bars"
   ]
  },
  {
   "cell_type": "code",
   "execution_count": 10,
   "id": "f9c1013f-cb20-4bad-bea8-03ff1c33747a",
   "metadata": {},
   "outputs": [],
   "source": [
    "regions = ['Africa', 'Americas', 'Asia', 'Europe', 'Oceania']\n",
    "\n",
    "regions_bool = annual_temp_change.area.isin(regions)\n",
    "\n",
    "region_temps = annual_temp_change[regions_bool]"
   ]
  },
  {
   "cell_type": "code",
   "execution_count": 11,
   "id": "c9cc5025-3c8f-4aed-9af9-b82df4ff5a3a",
   "metadata": {},
   "outputs": [
    {
     "data": {
      "application/vnd.vegalite.v4+json": {
       "$schema": "https://vega.github.io/schema/vega-lite/v4.8.1.json",
       "config": {
        "view": {
         "continuousHeight": 300,
         "continuousWidth": 400
        }
       },
       "data": {
        "url": "http://localhost:18204/ec61fc99ddf2dfcc960e245361cb96be.json"
       },
       "height": 250,
       "layer": [
        {
         "encoding": {
          "color": {
           "field": "area",
           "title": "Region",
           "type": "nominal"
          },
          "opacity": {
           "condition": {
            "selection": "selector001",
            "value": 0.9
           },
           "value": 0.2
          },
          "tooltip": {
           "field": "area",
           "type": "nominal"
          },
          "x": {
           "axis": {
            "labelAngle": 0,
            "values": [
             1960,
             1965,
             1970,
             1975,
             1980,
             1985,
             1990,
             1995,
             2000,
             2005,
             2010,
             2015,
             2020
            ]
           },
           "field": "year",
           "title": "Year",
           "type": "nominal"
          },
          "y": {
           "aggregate": "mean",
           "field": "mean_temp_change",
           "title": "Temperature change (C)",
           "type": "quantitative"
          }
         },
         "mark": {
          "filled": true,
          "type": "point"
         },
         "selection": {
          "selector001": {
           "bind": "legend",
           "fields": [
            "area"
           ],
           "type": "multi"
          }
         },
         "title": "Increasing temperature over time"
        },
        {
         "encoding": {
          "color": {
           "field": "area",
           "type": "nominal"
          },
          "opacity": {
           "condition": {
            "selection": "selector001",
            "value": 0.9
           },
           "value": 0.2
          },
          "x": {
           "field": "year",
           "type": "nominal"
          },
          "y": {
           "aggregate": "mean",
           "field": "mean_temp_change",
           "type": "quantitative"
          }
         },
         "mark": "line"
        }
       ],
       "width": 750
      },
      "image/png": "[encoded data removed]",
      "text/plain": [
       "<VegaLite 4 object>\n",
       "\n",
       "If you see this message, it means the renderer has not been properly enabled\n",
       "for the frontend that you are using. For more information, see\n",
       "https://altair-viz.github.io/user_guide/troubleshooting.html\n"
      ]
     },
     "execution_count": 11,
     "metadata": {},
     "output_type": "execute_result"
    }
   ],
   "source": [
    "click = alt.selection_multi(fields=['area'], bind='legend')\n",
    "\n",
    "scatter_plot = alt.Chart(region_temps, title=\"Increasing temperature over time\"\n",
    "                        ).mark_point(filled=True).encode(\n",
    "    x=alt.X('year', title=\"Year\", axis=alt.Axis(values=np.arange(1960, 2021, 5), labelAngle=0)),\n",
    "    y=alt.Y('mean(mean_temp_change)', title=\"Temperature change (C)\") ,\n",
    "    color=alt.Color('area', title=\"Region\"),\n",
    "    tooltip='area',\n",
    "    opacity=alt.condition(click, alt.value(0.9), alt.value(0.2))\n",
    ").add_selection(click)\n",
    "\n",
    "line_plot = alt.Chart(region_temps).mark_line().encode(\n",
    "    x='year',\n",
    "    y='mean(mean_temp_change)',\n",
    "    color='area',\n",
    "    opacity=alt.condition(click, alt.value(0.9), alt.value(0.2))\n",
    ")\n",
    "\n",
    "(scatter_plot + line_plot).properties(\n",
    "    width=750,\n",
    "    height=250\n",
    ")"
   ]
  },
  {
   "cell_type": "code",
   "execution_count": 12,
   "id": "0f9206cf-89ed-4c79-94a9-33c089b993e7",
   "metadata": {},
   "outputs": [
    {
     "data": {
      "text/html": [
       "<div>\n",
       "<style scoped>\n",
       "    .dataframe tbody tr th:only-of-type {\n",
       "        vertical-align: middle;\n",
       "    }\n",
       "\n",
       "    .dataframe tbody tr th {\n",
       "        vertical-align: top;\n",
       "    }\n",
       "\n",
       "    .dataframe thead th {\n",
       "        text-align: right;\n",
       "    }\n",
       "</style>\n",
       "<table border=\"1\" class=\"dataframe\">\n",
       "  <thead>\n",
       "    <tr style=\"text-align: right;\">\n",
       "      <th></th>\n",
       "      <th>area</th>\n",
       "      <th>year</th>\n",
       "      <th>sd</th>\n",
       "      <th>mean_temp_change</th>\n",
       "    </tr>\n",
       "  </thead>\n",
       "  <tbody>\n",
       "    <tr>\n",
       "      <th>59</th>\n",
       "      <td>Africa</td>\n",
       "      <td>1961</td>\n",
       "      <td>0.337471</td>\n",
       "      <td>-0.089000</td>\n",
       "    </tr>\n",
       "    <tr>\n",
       "      <th>60</th>\n",
       "      <td>Africa</td>\n",
       "      <td>1962</td>\n",
       "      <td>0.337471</td>\n",
       "      <td>-0.006353</td>\n",
       "    </tr>\n",
       "    <tr>\n",
       "      <th>61</th>\n",
       "      <td>Africa</td>\n",
       "      <td>1963</td>\n",
       "      <td>0.337471</td>\n",
       "      <td>0.077471</td>\n",
       "    </tr>\n",
       "    <tr>\n",
       "      <th>62</th>\n",
       "      <td>Africa</td>\n",
       "      <td>1964</td>\n",
       "      <td>0.337471</td>\n",
       "      <td>-0.189471</td>\n",
       "    </tr>\n",
       "    <tr>\n",
       "      <th>63</th>\n",
       "      <td>Africa</td>\n",
       "      <td>1965</td>\n",
       "      <td>0.337471</td>\n",
       "      <td>-0.195294</td>\n",
       "    </tr>\n",
       "    <tr>\n",
       "      <th>...</th>\n",
       "      <td>...</td>\n",
       "      <td>...</td>\n",
       "      <td>...</td>\n",
       "      <td>...</td>\n",
       "    </tr>\n",
       "    <tr>\n",
       "      <th>10202</th>\n",
       "      <td>Oceania</td>\n",
       "      <td>2015</td>\n",
       "      <td>0.545647</td>\n",
       "      <td>1.004412</td>\n",
       "    </tr>\n",
       "    <tr>\n",
       "      <th>10203</th>\n",
       "      <td>Oceania</td>\n",
       "      <td>2016</td>\n",
       "      <td>0.545647</td>\n",
       "      <td>1.149647</td>\n",
       "    </tr>\n",
       "    <tr>\n",
       "      <th>10204</th>\n",
       "      <td>Oceania</td>\n",
       "      <td>2017</td>\n",
       "      <td>0.545647</td>\n",
       "      <td>1.132588</td>\n",
       "    </tr>\n",
       "    <tr>\n",
       "      <th>10205</th>\n",
       "      <td>Oceania</td>\n",
       "      <td>2018</td>\n",
       "      <td>0.545647</td>\n",
       "      <td>1.132706</td>\n",
       "    </tr>\n",
       "    <tr>\n",
       "      <th>10206</th>\n",
       "      <td>Oceania</td>\n",
       "      <td>2019</td>\n",
       "      <td>0.545647</td>\n",
       "      <td>1.425353</td>\n",
       "    </tr>\n",
       "  </tbody>\n",
       "</table>\n",
       "<p>295 rows × 4 columns</p>\n",
       "</div>"
      ],
      "text/plain": [
       "          area  year        sd  mean_temp_change\n",
       "59      Africa  1961  0.337471         -0.089000\n",
       "60      Africa  1962  0.337471         -0.006353\n",
       "61      Africa  1963  0.337471          0.077471\n",
       "62      Africa  1964  0.337471         -0.189471\n",
       "63      Africa  1965  0.337471         -0.195294\n",
       "...        ...   ...       ...               ...\n",
       "10202  Oceania  2015  0.545647          1.004412\n",
       "10203  Oceania  2016  0.545647          1.149647\n",
       "10204  Oceania  2017  0.545647          1.132588\n",
       "10205  Oceania  2018  0.545647          1.132706\n",
       "10206  Oceania  2019  0.545647          1.425353\n",
       "\n",
       "[295 rows x 4 columns]"
      ]
     },
     "execution_count": 12,
     "metadata": {},
     "output_type": "execute_result"
    }
   ],
   "source": [
    "region_temps"
   ]
  },
  {
   "cell_type": "code",
   "execution_count": 13,
   "id": "d7e3cb61-05c9-4bae-b970-3d251af36a25",
   "metadata": {},
   "outputs": [
    {
     "data": {
      "application/vnd.vegalite.v4+json": {
       "$schema": "https://vega.github.io/schema/vega-lite/v4.8.1.json",
       "config": {
        "view": {
         "continuousHeight": 300,
         "continuousWidth": 400
        }
       },
       "data": {
        "url": "http://localhost:18204/749392322380f0b50cf74416a1896443.json"
       },
       "height": 220,
       "layer": [
        {
         "encoding": {
          "color": {
           "field": "mean_temp_change",
           "scale": {
            "domain": [
             -2,
             2
            ],
            "reverse": true,
            "scheme": "redblue"
           },
           "title": "∆ (°C)",
           "type": "quantitative"
          },
          "size": {
           "field": "mean_temp_change",
           "legend": null,
           "scale": {
            "range": [
             1500,
             1500
            ]
           },
           "type": "quantitative"
          },
          "x": {
           "axis": null,
           "field": "area",
           "type": "nominal"
          }
         },
         "mark": {
          "size": 100,
          "type": "circle"
         },
         "selection": {
          "Year:": {
           "bind": {
            "input": "range",
            "max": 2019,
            "min": 1961,
            "name": "Year",
            "step": 1
           },
           "fields": [
            "year"
           ],
           "init": {
            "year": 1961
           },
           "type": "single"
          }
         },
         "title": {
          "anchor": "start",
          "text": "A Warming Earth"
         }
        },
        {
         "encoding": {
          "color": {
           "value": "black"
          },
          "text": {
           "field": "area",
           "type": "nominal"
          },
          "x": {
           "axis": null,
           "field": "area",
           "type": "nominal"
          }
         },
         "mark": {
          "dy": 40,
          "size": 15,
          "type": "text"
         },
         "title": {
          "anchor": "start",
          "text": "A Warming Earth"
         }
        },
        {
         "encoding": {
          "color": {
           "value": "black"
          },
          "text": {
           "field": "mean_temp_change",
           "format": ",.2f",
           "type": "quantitative"
          },
          "x": {
           "axis": null,
           "field": "area",
           "type": "nominal"
          }
         },
         "mark": {
          "dy": -40,
          "size": 10,
          "type": "text"
         },
         "title": {
          "anchor": "start",
          "text": "A Warming Earth"
         }
        },
        {
         "encoding": {
          "color": {
           "value": "black"
          },
          "text": {
           "field": "year",
           "type": "quantitative"
          }
         },
         "mark": {
          "dy": -80,
          "size": 15,
          "type": "text"
         }
        }
       ],
       "transform": [
        {
         "filter": {
          "selection": "Year:"
         }
        }
       ],
       "width": 450
      },
      "image/png": "[encoded data removed]",
      "text/plain": [
       "<VegaLite 4 object>\n",
       "\n",
       "If you see this message, it means the renderer has not been properly enabled\n",
       "for the frontend that you are using. For more information, see\n",
       "https://altair-viz.github.io/user_guide/troubleshooting.html\n"
      ]
     },
     "execution_count": 13,
     "metadata": {},
     "output_type": "execute_result"
    }
   ],
   "source": [
    "regional_temp = region_temps.copy()\n",
    "regional_temp['year'] = regional_temp['year'].astype(int)\n",
    "\n",
    "slider = alt.binding_range(min=1961, max=2019, step=1, name=\"Year\")\n",
    "select_year = alt.selection_single(name=\"Year:\", fields=['year'],\n",
    "                                   bind=slider, init={'year': 1961})\n",
    "\n",
    "plot = alt.Chart(regional_temp, \n",
    "                 title=alt.TitleParams(\n",
    "                    text=\"A Warming Earth\",\n",
    "                    anchor='start')\n",
    "    ).mark_circle(size=100).encode(\n",
    "        alt.X('area', axis=None),\n",
    "        alt.Color('mean_temp_change', title=\"∆ (°C)\",\n",
    "                  scale=alt.Scale(scheme=\"redblue\", reverse=True, domain=(-2, 2)))\n",
    ")\n",
    "\n",
    "year_label = alt.Chart(regional_temp)\n",
    "\n",
    "(plot.encode(\n",
    "    alt.Size(\"mean_temp_change\",\n",
    "             scale=alt.Scale(range=[1500, 1500]), \n",
    "             legend=None)) + \n",
    "     plot.mark_text(dy=40, size=15).encode(text='area', color=alt.value('black')) + \n",
    "     plot.mark_text(dy=-40, size=10).encode(\n",
    "         text=alt.Text(\"mean_temp_change\", format=\",.2f\"),\n",
    "         color=alt.value('black')) +\n",
    "      year_label.mark_text(dy=-80, size=15).encode(text='year', color=alt.value('black'))\n",
    ").add_selection(\n",
    "    select_year\n",
    ").transform_filter(\n",
    "    select_year\n",
    ").properties(\n",
    "    width=450,\n",
    "    height=220\n",
    ")\n",
    "\n",
    "# improvement - change size of circles -1-0, 0-1, 1-2 rather than gradual increase\n"
   ]
  },
  {
   "cell_type": "markdown",
   "id": "f328eec4-3756-483a-906b-3ba9c1420e68",
   "metadata": {},
   "source": [
    "## Natural Disasters"
   ]
  },
  {
   "cell_type": "code",
   "execution_count": 14,
   "id": "8a47218b-7c78-4f97-83ac-2752cdb4133c",
   "metadata": {},
   "outputs": [
    {
     "data": {
      "text/html": [
       "<div>\n",
       "<style scoped>\n",
       "    .dataframe tbody tr th:only-of-type {\n",
       "        vertical-align: middle;\n",
       "    }\n",
       "\n",
       "    .dataframe tbody tr th {\n",
       "        vertical-align: top;\n",
       "    }\n",
       "\n",
       "    .dataframe thead th {\n",
       "        text-align: right;\n",
       "    }\n",
       "</style>\n",
       "<table border=\"1\" class=\"dataframe\">\n",
       "  <thead>\n",
       "    <tr style=\"text-align: right;\">\n",
       "      <th></th>\n",
       "      <th>Year</th>\n",
       "      <th>Seq</th>\n",
       "      <th>Glide</th>\n",
       "      <th>Disaster Group</th>\n",
       "      <th>Disaster Subgroup</th>\n",
       "      <th>Disaster Type</th>\n",
       "      <th>Disaster Subtype</th>\n",
       "      <th>Disaster Subsubtype</th>\n",
       "      <th>Event Name</th>\n",
       "      <th>Country</th>\n",
       "      <th>...</th>\n",
       "      <th>No Affected</th>\n",
       "      <th>No Homeless</th>\n",
       "      <th>Total Affected</th>\n",
       "      <th>Insured Damages ('000 US$)</th>\n",
       "      <th>Total Damages ('000 US$)</th>\n",
       "      <th>CPI</th>\n",
       "      <th>Adm Level</th>\n",
       "      <th>Admin1 Code</th>\n",
       "      <th>Admin2 Code</th>\n",
       "      <th>Geo Locations</th>\n",
       "    </tr>\n",
       "  </thead>\n",
       "  <tbody>\n",
       "    <tr>\n",
       "      <th>0</th>\n",
       "      <td>1900</td>\n",
       "      <td>9002</td>\n",
       "      <td>NaN</td>\n",
       "      <td>Natural</td>\n",
       "      <td>Climatological</td>\n",
       "      <td>Drought</td>\n",
       "      <td>Drought</td>\n",
       "      <td>NaN</td>\n",
       "      <td>NaN</td>\n",
       "      <td>Cabo Verde</td>\n",
       "      <td>...</td>\n",
       "      <td>NaN</td>\n",
       "      <td>NaN</td>\n",
       "      <td>NaN</td>\n",
       "      <td>NaN</td>\n",
       "      <td>NaN</td>\n",
       "      <td>3.221647</td>\n",
       "      <td>NaN</td>\n",
       "      <td>NaN</td>\n",
       "      <td>NaN</td>\n",
       "      <td>NaN</td>\n",
       "    </tr>\n",
       "    <tr>\n",
       "      <th>1</th>\n",
       "      <td>1900</td>\n",
       "      <td>9001</td>\n",
       "      <td>NaN</td>\n",
       "      <td>Natural</td>\n",
       "      <td>Climatological</td>\n",
       "      <td>Drought</td>\n",
       "      <td>Drought</td>\n",
       "      <td>NaN</td>\n",
       "      <td>NaN</td>\n",
       "      <td>India</td>\n",
       "      <td>...</td>\n",
       "      <td>NaN</td>\n",
       "      <td>NaN</td>\n",
       "      <td>NaN</td>\n",
       "      <td>NaN</td>\n",
       "      <td>NaN</td>\n",
       "      <td>3.221647</td>\n",
       "      <td>NaN</td>\n",
       "      <td>NaN</td>\n",
       "      <td>NaN</td>\n",
       "      <td>NaN</td>\n",
       "    </tr>\n",
       "    <tr>\n",
       "      <th>2</th>\n",
       "      <td>1902</td>\n",
       "      <td>12</td>\n",
       "      <td>NaN</td>\n",
       "      <td>Natural</td>\n",
       "      <td>Geophysical</td>\n",
       "      <td>Earthquake</td>\n",
       "      <td>Ground movement</td>\n",
       "      <td>NaN</td>\n",
       "      <td>NaN</td>\n",
       "      <td>Guatemala</td>\n",
       "      <td>...</td>\n",
       "      <td>NaN</td>\n",
       "      <td>NaN</td>\n",
       "      <td>NaN</td>\n",
       "      <td>NaN</td>\n",
       "      <td>25000.0</td>\n",
       "      <td>3.350513</td>\n",
       "      <td>NaN</td>\n",
       "      <td>NaN</td>\n",
       "      <td>NaN</td>\n",
       "      <td>NaN</td>\n",
       "    </tr>\n",
       "    <tr>\n",
       "      <th>3</th>\n",
       "      <td>1902</td>\n",
       "      <td>3</td>\n",
       "      <td>NaN</td>\n",
       "      <td>Natural</td>\n",
       "      <td>Geophysical</td>\n",
       "      <td>Volcanic activity</td>\n",
       "      <td>Ash fall</td>\n",
       "      <td>NaN</td>\n",
       "      <td>Santa Maria</td>\n",
       "      <td>Guatemala</td>\n",
       "      <td>...</td>\n",
       "      <td>NaN</td>\n",
       "      <td>NaN</td>\n",
       "      <td>NaN</td>\n",
       "      <td>NaN</td>\n",
       "      <td>NaN</td>\n",
       "      <td>3.350513</td>\n",
       "      <td>NaN</td>\n",
       "      <td>NaN</td>\n",
       "      <td>NaN</td>\n",
       "      <td>NaN</td>\n",
       "    </tr>\n",
       "    <tr>\n",
       "      <th>4</th>\n",
       "      <td>1902</td>\n",
       "      <td>10</td>\n",
       "      <td>NaN</td>\n",
       "      <td>Natural</td>\n",
       "      <td>Geophysical</td>\n",
       "      <td>Volcanic activity</td>\n",
       "      <td>Ash fall</td>\n",
       "      <td>NaN</td>\n",
       "      <td>Santa Maria</td>\n",
       "      <td>Guatemala</td>\n",
       "      <td>...</td>\n",
       "      <td>NaN</td>\n",
       "      <td>NaN</td>\n",
       "      <td>NaN</td>\n",
       "      <td>NaN</td>\n",
       "      <td>NaN</td>\n",
       "      <td>3.350513</td>\n",
       "      <td>NaN</td>\n",
       "      <td>NaN</td>\n",
       "      <td>NaN</td>\n",
       "      <td>NaN</td>\n",
       "    </tr>\n",
       "  </tbody>\n",
       "</table>\n",
       "<p>5 rows × 45 columns</p>\n",
       "</div>"
      ],
      "text/plain": [
       "   Year   Seq Glide Disaster Group Disaster Subgroup      Disaster Type  \\\n",
       "0  1900  9002   NaN        Natural    Climatological            Drought   \n",
       "1  1900  9001   NaN        Natural    Climatological            Drought   \n",
       "2  1902    12   NaN        Natural       Geophysical         Earthquake   \n",
       "3  1902     3   NaN        Natural       Geophysical  Volcanic activity   \n",
       "4  1902    10   NaN        Natural       Geophysical  Volcanic activity   \n",
       "\n",
       "  Disaster Subtype Disaster Subsubtype   Event Name     Country  ...  \\\n",
       "0          Drought                 NaN          NaN  Cabo Verde  ...   \n",
       "1          Drought                 NaN          NaN       India  ...   \n",
       "2  Ground movement                 NaN          NaN   Guatemala  ...   \n",
       "3         Ash fall                 NaN  Santa Maria   Guatemala  ...   \n",
       "4         Ash fall                 NaN  Santa Maria   Guatemala  ...   \n",
       "\n",
       "  No Affected No Homeless Total Affected Insured Damages ('000 US$)  \\\n",
       "0         NaN         NaN            NaN                        NaN   \n",
       "1         NaN         NaN            NaN                        NaN   \n",
       "2         NaN         NaN            NaN                        NaN   \n",
       "3         NaN         NaN            NaN                        NaN   \n",
       "4         NaN         NaN            NaN                        NaN   \n",
       "\n",
       "  Total Damages ('000 US$)       CPI Adm Level Admin1 Code Admin2 Code  \\\n",
       "0                      NaN  3.221647       NaN         NaN         NaN   \n",
       "1                      NaN  3.221647       NaN         NaN         NaN   \n",
       "2                  25000.0  3.350513       NaN         NaN         NaN   \n",
       "3                      NaN  3.350513       NaN         NaN         NaN   \n",
       "4                      NaN  3.350513       NaN         NaN         NaN   \n",
       "\n",
       "  Geo Locations  \n",
       "0           NaN  \n",
       "1           NaN  \n",
       "2           NaN  \n",
       "3           NaN  \n",
       "4           NaN  \n",
       "\n",
       "[5 rows x 45 columns]"
      ]
     },
     "execution_count": 14,
     "metadata": {},
     "output_type": "execute_result"
    }
   ],
   "source": [
    "# import data\n",
    "raw_data_nd = pd.read_csv('data/1900_2021_DISASTERS.csv')\n",
    "raw_data_nd.head()"
   ]
  },
  {
   "cell_type": "code",
   "execution_count": 60,
   "id": "a911ec32-18bb-41b3-a0d4-46049088964f",
   "metadata": {},
   "outputs": [],
   "source": [
    "natural_disasters_df = raw_data_nd[['Year', 'Disaster Subgroup']]"
   ]
  },
  {
   "cell_type": "code",
   "execution_count": 72,
   "id": "d9909cba-d7dd-4430-9ebc-1948c517663a",
   "metadata": {},
   "outputs": [
    {
     "data": {
      "text/html": [
       "<div>\n",
       "<style scoped>\n",
       "    .dataframe tbody tr th:only-of-type {\n",
       "        vertical-align: middle;\n",
       "    }\n",
       "\n",
       "    .dataframe tbody tr th {\n",
       "        vertical-align: top;\n",
       "    }\n",
       "\n",
       "    .dataframe thead th {\n",
       "        text-align: right;\n",
       "    }\n",
       "</style>\n",
       "<table border=\"1\" class=\"dataframe\">\n",
       "  <thead>\n",
       "    <tr style=\"text-align: right;\">\n",
       "      <th></th>\n",
       "      <th>Year</th>\n",
       "      <th>Disaster Subgroup</th>\n",
       "    </tr>\n",
       "  </thead>\n",
       "  <tbody>\n",
       "    <tr>\n",
       "      <th>0</th>\n",
       "      <td>1900</td>\n",
       "      <td>Climatological</td>\n",
       "    </tr>\n",
       "    <tr>\n",
       "      <th>1</th>\n",
       "      <td>1900</td>\n",
       "      <td>Climatological</td>\n",
       "    </tr>\n",
       "    <tr>\n",
       "      <th>2</th>\n",
       "      <td>1902</td>\n",
       "      <td>Geophysical</td>\n",
       "    </tr>\n",
       "    <tr>\n",
       "      <th>3</th>\n",
       "      <td>1902</td>\n",
       "      <td>Geophysical</td>\n",
       "    </tr>\n",
       "    <tr>\n",
       "      <th>4</th>\n",
       "      <td>1902</td>\n",
       "      <td>Geophysical</td>\n",
       "    </tr>\n",
       "    <tr>\n",
       "      <th>...</th>\n",
       "      <td>...</td>\n",
       "      <td>...</td>\n",
       "    </tr>\n",
       "    <tr>\n",
       "      <th>16121</th>\n",
       "      <td>2021</td>\n",
       "      <td>Hydrological</td>\n",
       "    </tr>\n",
       "    <tr>\n",
       "      <th>16122</th>\n",
       "      <td>2021</td>\n",
       "      <td>Hydrological</td>\n",
       "    </tr>\n",
       "    <tr>\n",
       "      <th>16123</th>\n",
       "      <td>2021</td>\n",
       "      <td>Biological</td>\n",
       "    </tr>\n",
       "    <tr>\n",
       "      <th>16124</th>\n",
       "      <td>2021</td>\n",
       "      <td>Hydrological</td>\n",
       "    </tr>\n",
       "    <tr>\n",
       "      <th>16125</th>\n",
       "      <td>2021</td>\n",
       "      <td>Hydrological</td>\n",
       "    </tr>\n",
       "  </tbody>\n",
       "</table>\n",
       "<p>16126 rows × 2 columns</p>\n",
       "</div>"
      ],
      "text/plain": [
       "       Year Disaster Subgroup\n",
       "0      1900    Climatological\n",
       "1      1900    Climatological\n",
       "2      1902       Geophysical\n",
       "3      1902       Geophysical\n",
       "4      1902       Geophysical\n",
       "...     ...               ...\n",
       "16121  2021      Hydrological\n",
       "16122  2021      Hydrological\n",
       "16123  2021        Biological\n",
       "16124  2021      Hydrological\n",
       "16125  2021      Hydrological\n",
       "\n",
       "[16126 rows x 2 columns]"
      ]
     },
     "execution_count": 72,
     "metadata": {},
     "output_type": "execute_result"
    }
   ],
   "source": [
    "natural_disasters_df"
   ]
  },
  {
   "cell_type": "code",
   "execution_count": 94,
   "id": "c7ff65a7-9d7f-4328-9e89-2b7711204b6b",
   "metadata": {},
   "outputs": [
    {
     "data": {
      "application/vnd.vegalite.v4+json": {
       "$schema": "https://vega.github.io/schema/vega-lite/v4.8.1.json",
       "config": {
        "view": {
         "continuousHeight": 300,
         "continuousWidth": 400
        }
       },
       "data": {
        "url": "http://localhost:18204/dc7cef70d284923a8c982da836d0fc9e.json"
       },
       "encoding": {
        "color": {
         "field": "Disaster Subgroup",
         "type": "nominal"
        },
        "x": {
         "field": "Year",
         "title": "Year",
         "type": "quantitative"
        },
        "y": {
         "aggregate": "count",
         "field": "Disaster Subgroup",
         "type": "nominal"
        }
       },
       "height": 450,
       "mark": "area",
       "title": "Increasing Natural Disasters",
       "width": 450
      },
      "image/png": "[encoded data removed]",
      "text/plain": [
       "<VegaLite 4 object>\n",
       "\n",
       "If you see this message, it means the renderer has not been properly enabled\n",
       "for the frontend that you are using. For more information, see\n",
       "https://altair-viz.github.io/user_guide/troubleshooting.html\n"
      ]
     },
     "execution_count": 94,
     "metadata": {},
     "output_type": "execute_result"
    }
   ],
   "source": [
    "alt.Chart(natural_disasters_df, title=\"Increasing Natural Disasters\").mark_area().encode(\n",
    "    x=alt.X('Year', title=\"Year\"),\n",
    "    y=alt.Y('count(Disaster Subgroup)'),\n",
    "    color='Disaster Subgroup'\n",
    ").properties(\n",
    "    width=450,\n",
    "    height=450\n",
    ")"
   ]
  },
  {
   "cell_type": "code",
   "execution_count": 95,
   "id": "2ce64e48-6f6d-4b2a-afad-b122cb46fb25",
   "metadata": {},
   "outputs": [],
   "source": [
    "temp_deaths = pd.read_csv('data/extreme_temperature_deaths_annual_number.csv')"
   ]
  },
  {
   "cell_type": "code",
   "execution_count": 96,
   "id": "27389ada-5c55-4db8-83af-0531eea2584f",
   "metadata": {},
   "outputs": [
    {
     "data": {
      "text/html": [
       "<div>\n",
       "<style scoped>\n",
       "    .dataframe tbody tr th:only-of-type {\n",
       "        vertical-align: middle;\n",
       "    }\n",
       "\n",
       "    .dataframe tbody tr th {\n",
       "        vertical-align: top;\n",
       "    }\n",
       "\n",
       "    .dataframe thead th {\n",
       "        text-align: right;\n",
       "    }\n",
       "</style>\n",
       "<table border=\"1\" class=\"dataframe\">\n",
       "  <thead>\n",
       "    <tr style=\"text-align: right;\">\n",
       "      <th></th>\n",
       "      <th>country</th>\n",
       "      <th>1970</th>\n",
       "      <th>1971</th>\n",
       "      <th>1972</th>\n",
       "      <th>1973</th>\n",
       "      <th>1974</th>\n",
       "      <th>1975</th>\n",
       "      <th>1976</th>\n",
       "      <th>1977</th>\n",
       "      <th>1978</th>\n",
       "      <th>...</th>\n",
       "      <th>1998</th>\n",
       "      <th>1999</th>\n",
       "      <th>2000</th>\n",
       "      <th>2001</th>\n",
       "      <th>2002</th>\n",
       "      <th>2003</th>\n",
       "      <th>2004</th>\n",
       "      <th>2005</th>\n",
       "      <th>2006</th>\n",
       "      <th>2007</th>\n",
       "    </tr>\n",
       "  </thead>\n",
       "  <tbody>\n",
       "    <tr>\n",
       "      <th>0</th>\n",
       "      <td>Afghanistan</td>\n",
       "      <td>0</td>\n",
       "      <td>0</td>\n",
       "      <td>0</td>\n",
       "      <td>NaN</td>\n",
       "      <td>0</td>\n",
       "      <td>NaN</td>\n",
       "      <td>0</td>\n",
       "      <td>0</td>\n",
       "      <td>0</td>\n",
       "      <td>...</td>\n",
       "      <td>0</td>\n",
       "      <td>0</td>\n",
       "      <td>327</td>\n",
       "      <td>0</td>\n",
       "      <td>0</td>\n",
       "      <td>0</td>\n",
       "      <td>21</td>\n",
       "      <td>0</td>\n",
       "      <td>0</td>\n",
       "      <td>1320</td>\n",
       "    </tr>\n",
       "    <tr>\n",
       "      <th>1</th>\n",
       "      <td>Albania</td>\n",
       "      <td>0</td>\n",
       "      <td>0</td>\n",
       "      <td>0</td>\n",
       "      <td>NaN</td>\n",
       "      <td>0</td>\n",
       "      <td>NaN</td>\n",
       "      <td>0</td>\n",
       "      <td>0</td>\n",
       "      <td>0</td>\n",
       "      <td>...</td>\n",
       "      <td>0</td>\n",
       "      <td>0</td>\n",
       "      <td>0</td>\n",
       "      <td>0</td>\n",
       "      <td>0</td>\n",
       "      <td>3</td>\n",
       "      <td>0</td>\n",
       "      <td>0</td>\n",
       "      <td>0</td>\n",
       "      <td>0</td>\n",
       "    </tr>\n",
       "    <tr>\n",
       "      <th>2</th>\n",
       "      <td>Argentina</td>\n",
       "      <td>0</td>\n",
       "      <td>100</td>\n",
       "      <td>0</td>\n",
       "      <td>NaN</td>\n",
       "      <td>0</td>\n",
       "      <td>NaN</td>\n",
       "      <td>0</td>\n",
       "      <td>0</td>\n",
       "      <td>0</td>\n",
       "      <td>...</td>\n",
       "      <td>0</td>\n",
       "      <td>15</td>\n",
       "      <td>14</td>\n",
       "      <td>0</td>\n",
       "      <td>0</td>\n",
       "      <td>5</td>\n",
       "      <td>0</td>\n",
       "      <td>0</td>\n",
       "      <td>9</td>\n",
       "      <td>0</td>\n",
       "    </tr>\n",
       "    <tr>\n",
       "      <th>3</th>\n",
       "      <td>Australia</td>\n",
       "      <td>0</td>\n",
       "      <td>0</td>\n",
       "      <td>0</td>\n",
       "      <td>NaN</td>\n",
       "      <td>0</td>\n",
       "      <td>NaN</td>\n",
       "      <td>0</td>\n",
       "      <td>0</td>\n",
       "      <td>0</td>\n",
       "      <td>...</td>\n",
       "      <td>0</td>\n",
       "      <td>0</td>\n",
       "      <td>0</td>\n",
       "      <td>0</td>\n",
       "      <td>0</td>\n",
       "      <td>0</td>\n",
       "      <td>0</td>\n",
       "      <td>0</td>\n",
       "      <td>0</td>\n",
       "      <td>0</td>\n",
       "    </tr>\n",
       "    <tr>\n",
       "      <th>4</th>\n",
       "      <td>Austria</td>\n",
       "      <td>0</td>\n",
       "      <td>0</td>\n",
       "      <td>0</td>\n",
       "      <td>NaN</td>\n",
       "      <td>0</td>\n",
       "      <td>NaN</td>\n",
       "      <td>0</td>\n",
       "      <td>0</td>\n",
       "      <td>0</td>\n",
       "      <td>...</td>\n",
       "      <td>0</td>\n",
       "      <td>0</td>\n",
       "      <td>0</td>\n",
       "      <td>0</td>\n",
       "      <td>345</td>\n",
       "      <td>0</td>\n",
       "      <td>0</td>\n",
       "      <td>0</td>\n",
       "      <td>5</td>\n",
       "      <td>0</td>\n",
       "    </tr>\n",
       "    <tr>\n",
       "      <th>...</th>\n",
       "      <td>...</td>\n",
       "      <td>...</td>\n",
       "      <td>...</td>\n",
       "      <td>...</td>\n",
       "      <td>...</td>\n",
       "      <td>...</td>\n",
       "      <td>...</td>\n",
       "      <td>...</td>\n",
       "      <td>...</td>\n",
       "      <td>...</td>\n",
       "      <td>...</td>\n",
       "      <td>...</td>\n",
       "      <td>...</td>\n",
       "      <td>...</td>\n",
       "      <td>...</td>\n",
       "      <td>...</td>\n",
       "      <td>...</td>\n",
       "      <td>...</td>\n",
       "      <td>...</td>\n",
       "      <td>...</td>\n",
       "      <td>...</td>\n",
       "    </tr>\n",
       "    <tr>\n",
       "      <th>68</th>\n",
       "      <td>Ukraine</td>\n",
       "      <td>0</td>\n",
       "      <td>0</td>\n",
       "      <td>0</td>\n",
       "      <td>NaN</td>\n",
       "      <td>0</td>\n",
       "      <td>NaN</td>\n",
       "      <td>0</td>\n",
       "      <td>0</td>\n",
       "      <td>0</td>\n",
       "      <td>...</td>\n",
       "      <td>0</td>\n",
       "      <td>0</td>\n",
       "      <td>0</td>\n",
       "      <td>0</td>\n",
       "      <td>0</td>\n",
       "      <td>0</td>\n",
       "      <td>801</td>\n",
       "      <td>0</td>\n",
       "      <td>0</td>\n",
       "      <td>0</td>\n",
       "    </tr>\n",
       "    <tr>\n",
       "      <th>69</th>\n",
       "      <td>Uruguay</td>\n",
       "      <td>0</td>\n",
       "      <td>0</td>\n",
       "      <td>0</td>\n",
       "      <td>NaN</td>\n",
       "      <td>0</td>\n",
       "      <td>NaN</td>\n",
       "      <td>0</td>\n",
       "      <td>0</td>\n",
       "      <td>0</td>\n",
       "      <td>...</td>\n",
       "      <td>0</td>\n",
       "      <td>7</td>\n",
       "      <td>0</td>\n",
       "      <td>0</td>\n",
       "      <td>0</td>\n",
       "      <td>0</td>\n",
       "      <td>0</td>\n",
       "      <td>0</td>\n",
       "      <td>0</td>\n",
       "      <td>0</td>\n",
       "    </tr>\n",
       "    <tr>\n",
       "      <th>70</th>\n",
       "      <td>United States</td>\n",
       "      <td>0</td>\n",
       "      <td>10</td>\n",
       "      <td>22</td>\n",
       "      <td>NaN</td>\n",
       "      <td>0</td>\n",
       "      <td>NaN</td>\n",
       "      <td>0</td>\n",
       "      <td>0</td>\n",
       "      <td>0</td>\n",
       "      <td>...</td>\n",
       "      <td>257</td>\n",
       "      <td>35</td>\n",
       "      <td>56</td>\n",
       "      <td>14</td>\n",
       "      <td>0</td>\n",
       "      <td>3</td>\n",
       "      <td>33</td>\n",
       "      <td>188</td>\n",
       "      <td>0</td>\n",
       "      <td>0</td>\n",
       "    </tr>\n",
       "    <tr>\n",
       "      <th>71</th>\n",
       "      <td>Yugoslavia</td>\n",
       "      <td>0</td>\n",
       "      <td>0</td>\n",
       "      <td>0</td>\n",
       "      <td>NaN</td>\n",
       "      <td>0</td>\n",
       "      <td>NaN</td>\n",
       "      <td>0</td>\n",
       "      <td>0</td>\n",
       "      <td>0</td>\n",
       "      <td>...</td>\n",
       "      <td>0</td>\n",
       "      <td>0</td>\n",
       "      <td>0</td>\n",
       "      <td>0</td>\n",
       "      <td>0</td>\n",
       "      <td>0</td>\n",
       "      <td>0</td>\n",
       "      <td>0</td>\n",
       "      <td>0</td>\n",
       "      <td>0</td>\n",
       "    </tr>\n",
       "    <tr>\n",
       "      <th>72</th>\n",
       "      <td>South Africa</td>\n",
       "      <td>0</td>\n",
       "      <td>0</td>\n",
       "      <td>0</td>\n",
       "      <td>NaN</td>\n",
       "      <td>0</td>\n",
       "      <td>NaN</td>\n",
       "      <td>0</td>\n",
       "      <td>0</td>\n",
       "      <td>0</td>\n",
       "      <td>...</td>\n",
       "      <td>0</td>\n",
       "      <td>0</td>\n",
       "      <td>0</td>\n",
       "      <td>0</td>\n",
       "      <td>0</td>\n",
       "      <td>0</td>\n",
       "      <td>0</td>\n",
       "      <td>0</td>\n",
       "      <td>22</td>\n",
       "      <td>0</td>\n",
       "    </tr>\n",
       "  </tbody>\n",
       "</table>\n",
       "<p>73 rows × 39 columns</p>\n",
       "</div>"
      ],
      "text/plain": [
       "          country  1970  1971  1972  1973  1974  1975  1976  1977  1978  ...  \\\n",
       "0     Afghanistan     0     0     0   NaN     0   NaN     0     0     0  ...   \n",
       "1         Albania     0     0     0   NaN     0   NaN     0     0     0  ...   \n",
       "2       Argentina     0   100     0   NaN     0   NaN     0     0     0  ...   \n",
       "3       Australia     0     0     0   NaN     0   NaN     0     0     0  ...   \n",
       "4         Austria     0     0     0   NaN     0   NaN     0     0     0  ...   \n",
       "..            ...   ...   ...   ...   ...   ...   ...   ...   ...   ...  ...   \n",
       "68        Ukraine     0     0     0   NaN     0   NaN     0     0     0  ...   \n",
       "69        Uruguay     0     0     0   NaN     0   NaN     0     0     0  ...   \n",
       "70  United States     0    10    22   NaN     0   NaN     0     0     0  ...   \n",
       "71     Yugoslavia     0     0     0   NaN     0   NaN     0     0     0  ...   \n",
       "72   South Africa     0     0     0   NaN     0   NaN     0     0     0  ...   \n",
       "\n",
       "    1998  1999  2000  2001  2002  2003  2004  2005  2006  2007  \n",
       "0      0     0   327     0     0     0    21     0     0  1320  \n",
       "1      0     0     0     0     0     3     0     0     0     0  \n",
       "2      0    15    14     0     0     5     0     0     9     0  \n",
       "3      0     0     0     0     0     0     0     0     0     0  \n",
       "4      0     0     0     0   345     0     0     0     5     0  \n",
       "..   ...   ...   ...   ...   ...   ...   ...   ...   ...   ...  \n",
       "68     0     0     0     0     0     0   801     0     0     0  \n",
       "69     0     7     0     0     0     0     0     0     0     0  \n",
       "70   257    35    56    14     0     3    33   188     0     0  \n",
       "71     0     0     0     0     0     0     0     0     0     0  \n",
       "72     0     0     0     0     0     0     0     0    22     0  \n",
       "\n",
       "[73 rows x 39 columns]"
      ]
     },
     "execution_count": 96,
     "metadata": {},
     "output_type": "execute_result"
    }
   ],
   "source": [
    "temp_deaths"
   ]
  },
  {
   "cell_type": "code",
   "execution_count": null,
   "id": "eda1d18a-7905-4a68-83ba-16e1f8fe30f7",
   "metadata": {},
   "outputs": [],
   "source": []
  }
 ],
 "metadata": {
  "kernelspec": {
   "display_name": "Python [conda env:climate_analysis_env]",
   "language": "python",
   "name": "conda-env-climate_analysis_env-py"
  },
  "language_info": {
   "codemirror_mode": {
    "name": "ipython",
    "version": 3
   },
   "file_extension": ".py",
   "mimetype": "text/x-python",
   "name": "python",
   "nbconvert_exporter": "python",
   "pygments_lexer": "ipython3",
   "version": "3.9.7"
  }
 },
 "nbformat": 4,
 "nbformat_minor": 5
}
